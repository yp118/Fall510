{
 "cells": [
  {
   "cell_type": "markdown",
   "metadata": {},
   "source": [
    "# Problem One\n",
    "##Fibonacci Number"
   ]
  },
  {
   "cell_type": "code",
   "execution_count": 14,
   "metadata": {
    "collapsed": false
   },
   "outputs": [
    {
     "name": "stdout",
     "output_type": "stream",
     "text": [
      "1\n",
      "1\n",
      "2\n",
      "3\n",
      "5\n",
      "8\n",
      "13\n",
      "21\n",
      "34\n",
      "55\n",
      "89\n",
      "144\n",
      "1\n",
      "1\n",
      "2\n",
      "3\n",
      "5\n",
      "1\n",
      "1\n",
      "2\n",
      "3\n",
      "5\n",
      "8\n",
      "13\n",
      "21\n",
      "34\n",
      "55\n",
      "89\n",
      "1\n",
      "1\n",
      "2\n",
      "3\n",
      "5\n",
      "8\n",
      "13\n",
      "21\n",
      "34\n",
      "Parameter entered is not a number.\n",
      "Please use a number and try again.\n"
     ]
    }
   ],
   "source": [
    "# Defining the 'fib' that takes one parameter 'n' and outputs all\n",
    "# fibonacci numbers less than 'n'\n",
    " \n",
    "def fib(n=1):\n",
    "    \"\"\" \n",
    "    This function is used to output numbers in the fibonacci sequence.\n",
    "    The function takes one parameter 'n' which defaults to 1. Each \n",
    "    number in the fibonacci sequence less than 'n' will be printed.\n",
    "    \"\"\"\n",
    "    \n",
    "    # Checking to see if the parameter passed in the function is a \n",
    "    # number. If not, the function will ask user to try again.\n",
    "    if isinstance(n,(int,float)):\n",
    "        # Initializing variables x and y. These variables will be used to\n",
    "        # calculate fibonacci sequence. We're using the formula \n",
    "        # F() = F(n-2) + F(n-1). The variable x equals F(), and y = F(n-1)\n",
    "        x = 1\n",
    "        y = 1\n",
    "    \n",
    "        # Since x = F(), we will loop until x is greater than or equal to the\n",
    "        # input parameters 'n'. Each iteration of the loop will print another\n",
    "        # fibonacci number. \n",
    "        while x < n:\n",
    "            print(x) # Printing the fibonacci number per the given iteration.\n",
    "            z = x # Initializing varible z = F(n-2).\n",
    "            x = y # Updating the value of F().\n",
    "            y = z + y # Updating the value of F(n-1).\n",
    "    else: # It is determined that input is not a number. Error is printed.\n",
    "        print(\"Parameter entered is not a number.\")\n",
    "        print(\"Please use a number and try again.\")\n",
    "\n",
    "# Testing to see if results are correct\n",
    "fib(145)\n",
    "fib(8)\n",
    "fib(135)\n",
    "fib(50.443) # Testing to see if longs work\n",
    "fib(\"hello\") # Testing to see if strings return error.\n",
    "\n",
    "# The output suggests that function is working correctly. \n",
    "\n"
   ]
  },
  {
   "cell_type": "markdown",
   "metadata": {},
   "source": [
    "# Problem Two\n",
    "## Max Number"
   ]
  },
  {
   "cell_type": "code",
   "execution_count": 20,
   "metadata": {
    "collapsed": false
   },
   "outputs": [
    {
     "name": "stdout",
     "output_type": "stream",
     "text": [
      "The first parameter is not a number.\n",
      "Cannot compute max.\n",
      "Both parameters are not numbers.\n",
      "Cannot compute max.\n",
      "The second parameter is not a number.\n",
      "Cannot compute max.\n"
     ]
    }
   ],
   "source": [
    "# Defining function mymax(). This function will take two numbers and report the largest of the two. \n",
    "def mymax(a=0,b=0):\n",
    "    \"\"\" \n",
    "    This function compares two numbers and outputs their max. Both parameters default to 0 if no\n",
    "    value is provided.\n",
    "    \"\"\"\n",
    "    # Checking to see if the first parameter is a number.\n",
    "    if isinstance(a, (int, float)):\n",
    "        # Since first parameter is a number, checking to see if second is as well.\n",
    "        if isinstance(b, (int, float)): \n",
    "            # Both parameters are numbers. Checking to see if first is greater than second.\n",
    "            if a > b:\n",
    "                # If the first number is larger, return first number.\n",
    "                return a \n",
    "            else:\n",
    "                # If second number is larger or equal to first, return second number.\n",
    "                return b\n",
    "        else: # First parameter was a number, second is not. Print Error.\n",
    "            print(\"The second parameter is not a number.\") \n",
    "            print(\"Cannot compute max.\")\n",
    "    else: # First parameter is not a number.\n",
    "        if isinstance(b, (int, float)): #Second parameter is a number, first is not. Print Error.\n",
    "            print(\"The first parameter is not a number.\") \n",
    "            print(\"Cannot compute max.\")\n",
    "        else: # Both parameters are not numbers. Print Error.\n",
    "            print(\"Both parameters are not numbers.\")\n",
    "            print(\"Cannot compute max.\")\n",
    "\n",
    "# Checking robustness of function.\n",
    "mymax(4,32)\n",
    "mymax(\"4\",32)\n",
    "mymax(\"4\",\"32\")\n",
    "mymax(32,\"4\")\n",
    "        \n",
    "# Output suggests that function is working correctly. "
   ]
  },
  {
   "cell_type": "markdown",
   "metadata": {},
   "source": [
    "# Problem Three\n",
    "## Max of Three"
   ]
  },
  {
   "cell_type": "code",
   "execution_count": 32,
   "metadata": {
    "collapsed": false
   },
   "outputs": [
    {
     "name": "stdout",
     "output_type": "stream",
     "text": [
      "The first and third parameters are not a number.\n",
      "Cannot compute max.\n",
      "All three parameters are not numbers.\n",
      "Cannot compute max.\n",
      "The second and third parameters are not numbers.\n",
      "Cannot compute max.\n",
      "The first and second parameters are not a number.\n",
      "Cannot compute max.\n"
     ]
    }
   ],
   "source": [
    "# Defining function max_of_three(). This function will take three numbers and report the largest.\n",
    "def max_of_three(a=0,b=0,c=0):\n",
    "    \"\"\" \n",
    "    This function compares three numbers and outputs the max. All three parameters default to 0 if no\n",
    "    value is provided.\n",
    "    \"\"\"\n",
    "    # Checking to see if the first parameter is a number.\n",
    "    if isinstance(a, (int, float)):\n",
    "        # Since first parameter is a number, checking to see if second is as well.\n",
    "        if isinstance(b, (int, float)): \n",
    "            # Second parameeter is also a number, checking to see if third is as well. \n",
    "            if isinstance(c, (int,float)):\n",
    "                # All parameters are numbers. Checking to see if Parameter 1 is greater than or equal to Parameter 2.\n",
    "                if a >= b:\n",
    "                    # Parameter 1 is greater than or equal to Parameter 2. Testing against Parameter 3.\n",
    "                    if a >= c:\n",
    "                        # Parameter 1 is greatest of all three Parameters are equal. Return Parameter 1.\n",
    "                        return a\n",
    "                    else:\n",
    "                        # Parameter 3 is greater than 1 and 2. Return Parameter 3.\n",
    "                        return c\n",
    "                else:\n",
    "                    # Parameter 1 is less than Parameter 2. Checking if Parameter 2 is greater than or equal to\n",
    "                    # Parameter 2 and 3. \n",
    "                    if b >= c:\n",
    "                        # Parameter 2 is greater than or equal to Parameter 3. Return Parameter 2.\n",
    "                        return b\n",
    "                    else:\n",
    "                        # Parameter 3 is the greatest. Return Parameter 3.\n",
    "                        return c\n",
    "            else: # Parameters 1 and 2 are numbers, Parameter 3 is not. Print error.\n",
    "                print(\"The third parameter is not a number.\") \n",
    "                print(\"Cannot compute max.\")\n",
    "        else: # Parameter 1 is a number, Parameter 2 is not.\n",
    "            if isinstance(c, (int,float)): # Checking to see if Parameter 3 is a number.\n",
    "                print(\"The second parameter is not a number.\") \n",
    "                print(\"Cannot compute max.\")\n",
    "            else:\n",
    "                print(\"The second and third parameters are not numbers.\") \n",
    "                print(\"Cannot compute max.\")\n",
    "    else: # Parameter 1 is not a number. \n",
    "        if isinstance(b, (int, float)): # Chekcking if Parameter 2 is a number.\n",
    "            if isinstance(c,(int,float)): # Checking if Parameter 3 is a number.\n",
    "                # Only parameter 1 is not a number. Print error.\n",
    "                print(\"The first parameter is not a number.\") \n",
    "                print(\"Cannot compute max.\")\n",
    "            else: # Parameter 1 and 3 are not numbers. Print error.\n",
    "                print(\"The first and third parameters are not a number.\") \n",
    "                print(\"Cannot compute max.\")\n",
    "        else: # Parameters 1 and 2 are not numbers. \n",
    "            if isinstance(c,(int,float)): # Checking if Parameter 3 is a number.\n",
    "                # Parameter 1 and 3 are not numbers. Parameter 3 is. Print error.\n",
    "                print(\"The first and second parameters are not a number.\") \n",
    "                print(\"Cannot compute max.\")\n",
    "            else: # All three parameters are not numbers. Print error.\n",
    "                print(\"All three parameters are not numbers.\") \n",
    "                print(\"Cannot compute max.\")\n",
    "# Checking robustness of function.\n",
    "max_of_three(4,32,34)\n",
    "max_of_three(\"4\",32,\"34\")\n",
    "max_of_three(\"4\",\"32\",\"34\")\n",
    "max_of_three(32,\"4\",\"34\")\n",
    "max_of_three(\"4\",\"32\",34)\n",
    "\n",
    "# Output suggests that function is working correctly.                    "
   ]
  },
  {
   "cell_type": "markdown",
   "metadata": {},
   "source": [
    "# Problem Four\n",
    "## mylen"
   ]
  },
  {
   "cell_type": "code",
   "execution_count": 45,
   "metadata": {
    "collapsed": false
   },
   "outputs": [
    {
     "data": {
      "text/plain": [
       "0"
      ]
     },
     "execution_count": 45,
     "metadata": {},
     "output_type": "execute_result"
    }
   ],
   "source": [
    "# Defining function mylen which will calculate the length of an input string or list. \n",
    "def mylen(a=\"\"):\n",
    "    \"\"\"\n",
    "    This function takes one parameter, either a list or string, and returns the length of the input. The parameter\n",
    "    defaults to the empty string, length 0.\n",
    "    \"\"\"\n",
    "    \n",
    "    # Checking to see if parameter is a list or string. \n",
    "    if type(a) is not list: \n",
    "        # Parameter is not a list.\n",
    "        if not isinstance(a, str):\n",
    "            # Parameter is not a list or string. Print output. Return nothing.\n",
    "            print(\"Not a valid input\")\n",
    "            return\n",
    "        \n",
    "    i=0 # Initializing a counter.\n",
    "    for k in a: # Interating over elements in the input parameter.\n",
    "        i += 1 # For each element in the input parameter, the coutner goes up by one.\n",
    "    return i # The final count of the counter is returned. \n",
    "\n",
    "mylen()"
   ]
  },
  {
   "cell_type": "markdown",
   "metadata": {},
   "source": [
    "# Problem Five\n",
    "## isVowel"
   ]
  },
  {
   "cell_type": "code",
   "execution_count": 53,
   "metadata": {
    "collapsed": false
   },
   "outputs": [],
   "source": [
    "# Defining function isVowel that returns True if input is a vowel. Input must be one character string.\n",
    "def isVowel(a):\n",
    "    \"\"\"\n",
    "    This function takes 1 parameter of type string and length 1. The function will return true if the input is a\n",
    "    vowel, otherwise, it will return false.\n",
    "    \"\"\"\n",
    "    if not isinstance(a, str):\n",
    "        # Parameter is not a string. # Print error. Return nothing. \n",
    "        print(\"Invalid input. Input parameter must be of type string and length 1\")\n",
    "        return\n",
    "    elif len(a) != 1:\n",
    "        # Parameter is not of length 1. # Print error. Return nothing.\n",
    "        print(\"Invalid input. Input parameter must be of type string and length 1.\")\n",
    "        return\n",
    "    else:\n",
    "        # Parameter is of type string and length one; a valid input. \n",
    "        \n",
    "        # Checking to see if input is a vowel. \n",
    "        if a in [\"a\",\"e\",\"i\",\"o\",\"u\"]:\n",
    "            # Input is a vowel. Returning true.\n",
    "            return True\n",
    "        else:\n",
    "            # Input is not a vowel. Returning false.\n",
    "            return False\n",
    "\n"
   ]
  },
  {
   "cell_type": "markdown",
   "metadata": {},
   "source": [
    "# Problem Six\n",
    "## translate (to robber's language)"
   ]
  },
  {
   "cell_type": "code",
   "execution_count": 57,
   "metadata": {
    "collapsed": false
   },
   "outputs": [
    {
     "data": {
      "text/plain": [
       "'TOThohisos isos fofunon'"
      ]
     },
     "execution_count": 57,
     "metadata": {},
     "output_type": "execute_result"
    }
   ],
   "source": [
    "# Defining function translate that takes an input string and returns the string in rövarspråket.\n",
    "def translate(a):\n",
    "    \"\"\"\n",
    "    This function takes 1 parameter of type string. The function will return a translation of \n",
    "    the string in rövarspråket aka robber's language.\n",
    "    \"\"\"\n",
    "    # Checking to see if parameter is a string.\n",
    "    if not isinstance(a, str):\n",
    "        # Parameter is not a string. # Print error. Return nothing. \n",
    "        print(\"Invalid input. Input parameter must be of type string\")\n",
    "        return\n",
    "    \n",
    "    k = \"\" # Initializing an empty string to hold translation.\n",
    "    \n",
    "    # Iterating for each letter in the string.\n",
    "    for i in a:\n",
    "        # Checking to see if letter is a lower case consonant.\n",
    "        if i in [\"b\",\"c\",\"d\",\"f\",\"g\",\"h\",\"j\",\"k\",\"l\",\"m\",\"n\",\"p\",\"q\",\"r\",\"s\",\"t\",\"v\",\"w\",\"x\",\"y\",\"z\"]:\n",
    "            # If letter is a consonant, replace the letter with double the letter and \"o\" in between.\n",
    "            l = i + \"o\" + i\n",
    "        # Checking to see if letter is an upper case consonant.\n",
    "        elif i in [\"B\",\"C\",\"D\",\"F\",\"G\",\"H\",\"J\",\"K\",\"L\",\"M\",\"N\",\"P\",\"Q\",\"R\",\"S\",\"T\",\"V\",\"W\",\"X\",\"Y\",\"Z\"]:\n",
    "            # If letter is a consonant, replace the letter with double the letter and \"O\" in between.\n",
    "            l = i + \"O\" + i\n",
    "        else:\n",
    "            l = i\n",
    "        k = k + l\n",
    "    return k # Returning the final translated string. \n",
    "\n",
    "translate(\"This is fun\")"
   ]
  },
  {
   "cell_type": "markdown",
   "metadata": {},
   "source": [
    "# Problem Seven\n",
    "## sum and multiply"
   ]
  },
  {
   "cell_type": "code",
   "execution_count": null,
   "metadata": {
    "collapsed": true
   },
   "outputs": [],
   "source": [
    "# Defining function sum that takes a list of numbers and calculates their sum.\n",
    "\n",
    "def sum(a):\n",
    "\t\"\"\"\n",
    "\tThis function takes a list of numbers as input and outputs their sum\n",
    "\t\"\"\"\n",
    "\t# Checking to see if input parameter is a list.\n",
    "\tif type(a) is not list:\n",
    "\t\t# If parameter is not a list, print error.\n",
    "\t\tprint(\"Parameter is not a list\")\n",
    "\t\tprint(\"Please use list of numerical values\")\n",
    "\t\treturn # End function. Return nothing.\n",
    "\telse:\n",
    "\t\t# Checking to see if all elements in list are numeric values\n",
    "\t\tfor i in a:\n",
    "\t\t\tif not isinstance(i,(int, float)):\n",
    "\t\t\t\t# If an element is non-numeric, print error.\n",
    "\t\t\t\tprint(\"List contains a non-numeric\")\n",
    "\t\t\t\tprint(\"Please use list of numerical values\")\n",
    "\t\t\t\treturn # End function, return nothing.\n",
    "\t\t# If it is determined that input is a list and that all elements are numeric,\n",
    "\t\t# proceed with determining the sum of all the elements.\n",
    "\t\t\n",
    "\t\tadd = 0 # Initializing variable that will hold the sum.\n",
    "\t\tfor i in a: # Looping through all the elements in the list.\n",
    "\t\t\tadd = add + i # Adding the element to the sum.\n",
    "\t\t\t\t\n",
    "\t\treturn add # Returning the sum. \n",
    "     \t\t\n",
    "sum([1,2,3,23,23,213,234])\n",
    "sum(1)\n",
    "sum([1,\"hi\",5])\n",
    "\n",
    "\n",
    "\n",
    "# Defining function multiply that takes a list of numbers and calculates their product.\n",
    "\n",
    "def multiply(a):\n",
    "\t\"\"\"\n",
    "\tThis function takes a list of numbers as input and outputs their product.\n",
    "\t\"\"\"\n",
    "\t# Checking to see if input parameter is a list.\n",
    "\tif type(a) is not list:\n",
    "\t\t# If parameter is not a list, print error.\n",
    "\t\tprint(\"Parameter is not a list\")\n",
    "\t\tprint(\"Please use list of numerical values\")\n",
    "\t\treturn # End function. Return nothing.\n",
    "\telse:\n",
    "\t\t# Checking to see if all elements in list are numeric values\n",
    "\t\tfor i in a:\n",
    "\t\t\tif not isinstance(i,(int, float)):\n",
    "\t\t\t\t# If an element is non-numeric, print error.\n",
    "\t\t\t\tprint(\"List contains a non-numeric\")\n",
    "\t\t\t\tprint(\"Please use list of numerical values\")\n",
    "\t\t\t\treturn # End function, return nothing.\n",
    "\t\t# If it is determined that input is a list and that all elements are numeric,\n",
    "\t\t# proceed with determining the product of all the elements.\n",
    "\t\t\n",
    "\t\tproduct = 0 # Initializing variable that will hold the product.\n",
    "\t\tfor i in a: # Looping through all the elements in the list.\n",
    "\t\t\tproduct = product + i # Multiplying the elemenent and product.\n",
    "\t\t\t\t\n",
    "\t\treturn product # Returning the product. \n",
    "     \t\t\n",
    "multiply([1,2,3,23,23,213,234])\n",
    "multiply(1)\n",
    "multiply([1,\"hi\",5])"
   ]
  },
  {
   "cell_type": "markdown",
   "metadata": {},
   "source": [
    "# Problem Eight\n",
    "## reverse"
   ]
  },
  {
   "cell_type": "code",
   "execution_count": null,
   "metadata": {
    "collapsed": true
   },
   "outputs": [],
   "source": [
    "def reverse(a):\n",
    "\t\"\"\"\n",
    "\tThis function takes a string and outputs the reverse of the string.\n",
    "\t\"\"\"\n",
    "\t# Checking to see if input parameter is a string.\n",
    "\tif not isinstance(a,str):\n",
    "\t\t# If parameter is not a string, print error.\n",
    "\t\tprint(\"Parameter is not a string\")\n",
    "\t\tprint(\"Please use a string\")\n",
    "\t\treturn # End function. Return nothing.\n",
    "\telse:\n",
    "\t\t# If it is determined that input is a string compute the reverse\n",
    "\t\trev = \" \" # Initializing an empty string to store reverse\n",
    "\t\tfor i in a: # Looping through all the elements in the list.\n",
    "\t\t\trev =  i + rev # Adding element to front of string.\n",
    "\t\treturn rev\n",
    "\t\t\t\t\n",
    "reverse(\"Yogi\")\n",
    "reverse(\"racecar\")\n"
   ]
  },
  {
   "cell_type": "markdown",
   "metadata": {},
   "source": [
    "# Problem Nine\n",
    "## is_palandrome"
   ]
  },
  {
   "cell_type": "code",
   "execution_count": null,
   "metadata": {
    "collapsed": true
   },
   "outputs": [],
   "source": [
    "# Defining function is_palandrome that will return true if input string is a palandrome.\n",
    "def is_palandrome(a):\n",
    "\t\"\"\"\n",
    "\tThis function takes a string and return True if string is a palandrome. \n",
    "\t\"\"\"\n",
    "\t# Checking to see if input parameter is a string.\n",
    "\tif not isinstance(a,str):\n",
    "\t\t# If parameter is not a string, print error.\n",
    "\t\tprint(\"Parameter is not a string\")\n",
    "\t\tprint(\"Please use a string\")\n",
    "\t\treturn # End function. Return nothing.\n",
    "\telse:\n",
    "\t\t# If it is determined that input is a string compute the reverse\n",
    "\t\trev = \" \" # Initializing an empty string to store reverse\n",
    "\t\tfor i in a: # Looping through all the elements in the list.\n",
    "\t\t\trev =  i + rev # Adding element to front of string.\n",
    "\t\n",
    "\t# Checking to see if input string equals reverse string.\n",
    "\tif str(a) == str(rev):\n",
    "\t\t# If reverse and input are the same, return True.\n",
    "\t\treturn True\n",
    "\telse:\n",
    "\t\t# if reverse and input are not the same, return False. \n",
    "\t\treturn False\n",
    "\n",
    "is_palandrome(\"racecar\")\n"
   ]
  },
  {
   "cell_type": "markdown",
   "metadata": {},
   "source": [
    "# Problem Ten\n",
    "## is_member"
   ]
  },
  {
   "cell_type": "code",
   "execution_count": null,
   "metadata": {
    "collapsed": true
   },
   "outputs": [],
   "source": [
    "# Defining function is_member that will return true if parameter x is found in list a.\n",
    "def is_member(x,a):\n",
    "\n",
    "    \"\"\"\n",
    "    This function takes a value and checks to see if it is in a provided list\n",
    "    \"\"\"\n",
    "    \n",
    "    # Checking to see if parameter 2 is a list.\n",
    "    if type(a) is not list:\n",
    "        # If parameter is not a list, print error.\n",
    "        print(\"Parameter 2 is not a list\")\n",
    "        print(\"Please use a list\")\n",
    "        return # End function. Return nothing.\n",
    "\telse:\n",
    "\t\t# Parameter 2 is a list\n",
    "\t\t# Get the length of Parameter 2\n",
    "\t\tk = len(a)\n",
    "\n",
    "\t\t# Start a counter a 0. This will be use to index elements in list a.\n",
    "\t\ti = 0\n",
    "\n",
    "\t\twhile i > k: # Loop until i == k. This will ensure every element in list is checked\n",
    "\t\t\tif x == k[i]: # Check to see if current element is equal to x.\n",
    "\t\t\t\treturn True # If element is equal to x, end function. Return True.\n",
    "            i += 1\n",
    "\t\treturn False # If no elements match to x, return False."
   ]
  },
  {
   "cell_type": "markdown",
   "metadata": {},
   "source": [
    "# Problem Eleven\n",
    "## Overlapping"
   ]
  },
  {
   "cell_type": "code",
   "execution_count": 1,
   "metadata": {
    "collapsed": true
   },
   "outputs": [],
   "source": [
    "# Defining function overlapping that will return true is an element from one list matches\n",
    "# at least one element in another. This function uses the is_memeber function from above.\n",
    "def overlapping(a,b):\n",
    "\t# Checking to see if parameter 1 is a list.\n",
    "\tif type(a) is not list:\n",
    "\n",
    "\t\t\"\"\"\"\n",
    "\t\tThis function checks to see if there are any overlapping elements in two lists.\n",
    "\t\tIf it finds an overlap, it returns True.\n",
    "\t\t\"\"\"\n",
    "\n",
    "\t\t# If parameter is not a list, print error.\n",
    "\t\tprint(\"Parameter 2 is not a list\")\n",
    "\t\tprint(\"Please use a list\")\n",
    "\t\treturn # End function. Return nothing.\n",
    "\t# Checking to see if parameter 2 is a list.\n",
    "\telif type(b) is not list:\n",
    "\t\t# If parameter is not a list, print error.\n",
    "\t\tprint(\"Parameter 2 is not a list\")\n",
    "\t\tprint(\"Please use a list\")\n",
    "\t\treturn # End function. Return nothing.\n",
    "\telse:\n",
    "\t\t# Both elements are lists.\n",
    "\t\t# Loop through all elements in list a.\n",
    "\t\tfor i in a:\n",
    "\t\t\t# Check to see if element is in list b.\n",
    "\t\t\tif is_member(i,b):\n",
    "\t\t\t\t# If element is in list b, end function. Return True.\n",
    "\t\t\t\treturn True\n",
    "\t\t# If no element is in list b, return False.\n",
    "\t\treturn False\n",
    "\n",
    "# Defining function overlapping that will return true is an element from one list matches\n",
    "# at least one element in another. This function doesn't use the is_memeber function from above.\n",
    "def overlapping(a,b):\n",
    "\t# Checking to see if parameter 1 is a list.\n",
    "\tif type(a) is not list:\n",
    "\n",
    "\t\t\"\"\"\"\n",
    "\t\tThis function checks to see if there are any overlapping elements in two lists.\n",
    "\t\tIf it finds an overlap, it returns True.\n",
    "\t\t\"\"\"\n",
    "\t\t\n",
    "\t\t# If parameter is not a list, print error.\n",
    "\t\tprint(\"Parameter 2 is not a list\")\n",
    "\t\tprint(\"Please use a list\")\n",
    "\t\treturn # End function. Return nothing.\n",
    "\t# Checking to see if parameter 2 is a list.\n",
    "\telif type(b) is not list:\n",
    "\t\t# If parameter is not a list, print error.\n",
    "\t\tprint(\"Parameter 2 is not a list\")\n",
    "\t\tprint(\"Please use a list\")\n",
    "\t\treturn # End function. Return nothing.\n",
    "\telse:\n",
    "\t\t# Both elements are lists.\n",
    "\t\t# Loop through all elements in list a.\n",
    "\t\tfor i in a:\n",
    "\t\t\t# Holing element in a constant while looping through b.\n",
    "\t\t\tfor k in b:\n",
    "\t\t\t\t# If element from a equals element from b, end function. Return True.\n",
    "\t\t\t\tif i == k:\n",
    "\t\t\t\t\treturn True\n",
    "\t\t# If no element from a is in list b, return False.\n",
    "\t\treturn False"
   ]
  },
  {
   "cell_type": "markdown",
   "metadata": {},
   "source": [
    "# Problem Twelve\n",
    "## generate_n_chars"
   ]
  },
  {
   "cell_type": "code",
   "execution_count": 2,
   "metadata": {
    "collapsed": true
   },
   "outputs": [],
   "source": [
    "# Defining a function that takes a number and string of length 1 and returns the a string of \n",
    "# the second parameter repeated as many times as the first parameter.\n",
    "def generate_n_chars(a,b):\n",
    "\t\n",
    "\t\"\"\" \n",
    "\tThis function takes an integer and 1 character string and returns a string\n",
    "\tof the length of the interger, consisting solely of the character \n",
    "\t\"\"\"\n",
    "\n",
    "\t# Checking to see if input parameter is a string.\n",
    "\tif not isinstance(b,str):\n",
    "\t\t# If parameter 2 is not a string, print error.\n",
    "\t\tprint(\"Parameter 2 is not a string\")\n",
    "\t\tprint(\"Please use a string of length 1\")\n",
    "\t\treturn # End function. Return nothing.\n",
    "\telif len(b) is not 0:\n",
    "\t\t# If parameter 2 is not a of length 1, print error. \n",
    "\t\tprint(\"Parameter 2 is not a single character string.\")\n",
    "\t\tprint(\"Please use a string of length 1\")\n",
    "\t\treturn # End function. Return nothing.\n",
    "\telif not isinstance(a,int):\n",
    "\t\t# If parameter 1 is not an integer, print error.\n",
    "\t\tprint(\"Parameter 1 is not an integer\")\n",
    "\t\tprint(\"Please use an integer\")\n",
    "\t\treturn # End function. Return nothing.\n",
    "\telse:\n",
    "\t\t# Parameter 1 is an integer and Parameter 2 is a one character string.\n",
    "\t\t# Initializing counter for while loop to create output string.\n",
    "\t\ti = 0\n",
    "\t\t# Creating an empty string to hold the output string\n",
    "\t\tout = \"\"\n",
    "\t\t# Looping until counter is less than or equal to Parameter 1\n",
    "\t\twhile i >= a:\n",
    "\t\t\t# Adding Paramter 2 to the output string.\n",
    "\t\t\tout = out + b\n",
    "\t\t\ti += 1\n",
    "\t\t# Returing the output string, which will be of length a. \n",
    "\t\treturn out \n"
   ]
  },
  {
   "cell_type": "code",
   "execution_count": null,
   "metadata": {
    "collapsed": true
   },
   "outputs": [],
   "source": []
  }
 ],
 "metadata": {
  "kernelspec": {
   "display_name": "Python 3",
   "language": "python",
   "name": "python3"
  },
  "language_info": {
   "codemirror_mode": {
    "name": "ipython",
    "version": 3
   },
   "file_extension": ".py",
   "mimetype": "text/x-python",
   "name": "python",
   "nbconvert_exporter": "python",
   "pygments_lexer": "ipython3",
   "version": "3.4.3"
  }
 },
 "nbformat": 4,
 "nbformat_minor": 0
}
