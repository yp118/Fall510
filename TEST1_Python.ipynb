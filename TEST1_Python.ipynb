{
 "cells": [
  {
   "cell_type": "markdown",
   "metadata": {},
   "source": [
    "# Polygperim"
   ]
  },
  {
   "cell_type": "code",
   "execution_count": 57,
   "metadata": {
    "collapsed": false
   },
   "outputs": [],
   "source": [
    "def polygperim(coords):\n",
    "    \"\"\"This function takes on input parameter list of coordinate points of a polygon and returns the perimeter of \n",
    "       the polygon. The input must be of type list or of type tuple and must be at least of length three. In order\n",
    "       to qualify as a polygon, there must be some variation in slope between points.\n",
    "       \n",
    "       ***********************************************************************************************************\n",
    "       NOTE:\n",
    "       It is important to note that coordinate points in the input list/tuple must be in clockwise/counter-clockwise\n",
    "       order in order to get accurate perimeter. Perimeter calculation assumes that each point is follwed by the next\n",
    "       point to form the edges in the perimeter of the polygon. It is assumed that the last point and first point \n",
    "       connect to close off the polygon.\"\"\"\n",
    "    \n",
    "    \n",
    "    # Checking if input is of type tuple or list. If it is not, the function will return an error and terminate.\n",
    "    if not isinstance(coords, (list,tuple)):\n",
    "        print(\"ERROR: \" + str(coords))\n",
    "        print(\"Input parameter is not of type list or tuple. Cannot calculate perimeter.\")\n",
    "        return\n",
    "    \n",
    "    # Checking if input list/tuple is at least length 3. Without three coordinates, there cannot be a polygon.\n",
    "    if len(coords) < 3:\n",
    "        print(\"ERROR: \" + str(coords))\n",
    "        print(\"Input parameter is less than three. Cannot create polygon with less than three points.\")\n",
    "        return\n",
    "    \n",
    "    # Iterating through elements in input to validate coordinate points. \n",
    "    for i in coords:\n",
    "        # Checking if coordinate point is not of type tuple/list\n",
    "        if not isinstance(i, (list,tuple)):\n",
    "            print(\"ERROR: \" + str(i))\n",
    "            print(\"At least one of the coordinates in input is not of type tuple/list.\")\n",
    "            print(\"Input list/tuple should contain three or more (x,y) coordinates.\")\n",
    "            print(\"Each coordinate must be a tuple/list of exactly 2 numbers.\")\n",
    "            return        \n",
    "        # Checking if coordinate is of length 2.\n",
    "        if len(i) != 2:\n",
    "            print(\"ERROR: \" + str(i))\n",
    "            print(\"Input parameters contains non (x,y) coordinate elements.\")\n",
    "            print(\"Input list/tuple should contain three or more (x,y) coordinates.\")\n",
    "            print(\"Each coordinate must be a tuple/list of exactly 2 numbers.\")\n",
    "            return\n",
    "        # After verifying that coordinate is exactly two elements long, checking for non-numeric\n",
    "        # coordinate points.\n",
    "        \n",
    "        # Validating x coordinate.\n",
    "        elif not isinstance(i[0], (int, float)):\n",
    "            print(\"ERROR: \" + str(i))\n",
    "            print(\"Input parameter contains non-numerical coordinate points.\")\n",
    "            print(\"Input list/tuple should contain three or more (x,y) coordinates.\")\n",
    "            print(\"Each coordinate must be a tuple/list of exactly 2 numbers.\")\n",
    "            return\n",
    "        # Validating y coordinate.\n",
    "        elif not isinstance(i[1], (int, float)):\n",
    "            print(\"ERROR: \" + str(i))\n",
    "            print(\"Input parameter contains non-numerical coordinate points.\")\n",
    "            print(\"Input list/tuple should contain three or more (x,y) coordinates.\")\n",
    "            print(\"Each coordinate must be a tuple/list of exactly 2 numbers.\")\n",
    "            return\n",
    "    \n",
    "    \n",
    "    # If no change in slope, point is a line segment, cannot calculate perimeter.\n",
    "    # Initiating boolean variable that holds T/F if coordinates make a polygon.\n",
    "    polygon = False\n",
    "    # Initiating empty list to hold slopes of all line segments\n",
    "    slopes = []\n",
    "    # Iterating through coordinate points to get slopes of line segments.\n",
    "    for i,k in enumerate(coords):\n",
    "        # No need to get slope of last point and first point. \n",
    "        if i < (len(coords)-1):\n",
    "            rise = (coords[i+1][1] - coords[i][1])\n",
    "            run = (coords[i+1][0]-coords[i][0])\n",
    "            # If run == 0, slope is undefined -- It's a vertical line. \n",
    "            if run == 0:\n",
    "                m = \"undef\"\n",
    "            # All other values, calculate the slope.\n",
    "            else:\n",
    "                m = rise / run            \n",
    "            # Add slope to list of slopes.\n",
    "            slopes.append(m)\n",
    "    # Iterating through points to determine if slopes are all equivalent.\n",
    "    for i, k in enumerate(slopes):\n",
    "        # Need to perform test as long as polygon is false. At least one change in slope is necessary to be polygon.\n",
    "        if polygon is False:\n",
    "            # No need to check if last slope is equal to first.\n",
    "            if i < (len(slopes)-1):\n",
    "                # If current slope is not equal to next slope, we can determine that coordinates make a polygon.\n",
    "                if slopes[i] != slopes[i+1]:\n",
    "                    polygon = True\n",
    "    # If final determination is that polygon is false, we do not have a polygon. \n",
    "    if polygon is False:\n",
    "        print(\"ERROR: Input coordinates do not make a polygon.\")\n",
    "        print(\"In order to get perimeter, coordinates must for a polygon.\")\n",
    "        print(\"Cannot create polygon if all segments have same slope.\")\n",
    "        return\n",
    "    \n",
    "    \n",
    "    # If no errors found above, it is determined that a correct polygon is entered. \n",
    "    # Proceeding to calculate perimeter. \n",
    "    \n",
    "    \n",
    "    # Initializing perimieter variable\n",
    "    perimeter = 0\n",
    "    # Iterating through coordinate points in coords.\n",
    "    for i, k in enumerate(coords):\n",
    "        # If it's the last coordinate point, need to use first coordinate point in distance formula.\n",
    "        if i == (len(coords)-1):\n",
    "            # Using the distance formula to get line segment length between last and first coordinate\n",
    "            x = (coords[i][0]-coords[0][0])**2\n",
    "            y = (coords[i][1]-coords[0][1])**2\n",
    "            segment = (x + y)**(1/2)\n",
    "        else:\n",
    "            # Using the distance formula to get line segment length between coordinate i and the next coordinate in list.\n",
    "            x = (coords[i+1][0] - coords[i][0])**2\n",
    "            y = (coords[i+1][1] - coords[i][1])**2\n",
    "            segment = (x+y)**(1/2)\n",
    "        # Updating permeter with line segment length. \n",
    "        perimeter += segment\n",
    "    # Returning final perimeter\n",
    "    return perimeter"
   ]
  },
  {
   "cell_type": "code",
   "execution_count": 54,
   "metadata": {
    "collapsed": false
   },
   "outputs": [
    {
     "name": "stdout",
     "output_type": "stream",
     "text": [
      "[0.0, 'undef', -0.0]\n"
     ]
    },
    {
     "data": {
      "text/plain": [
       "16.0"
      ]
     },
     "execution_count": 54,
     "metadata": {},
     "output_type": "execute_result"
    }
   ],
   "source": [
    "# Checking if function properly calculates perimiter\n",
    "polygperim([(0,0),(4,0),(4,4),(0,4)])"
   ]
  },
  {
   "cell_type": "code",
   "execution_count": 62,
   "metadata": {
    "collapsed": false
   },
   "outputs": [
    {
     "name": "stdout",
     "output_type": "stream",
     "text": [
      "6.82842712474619\n"
     ]
    },
    {
     "data": {
      "text/plain": [
       "6.82842712474619"
      ]
     },
     "execution_count": 62,
     "metadata": {},
     "output_type": "execute_result"
    }
   ],
   "source": [
    "# Checking if function properly calculates perimeter of triangle\n",
    "\n",
    "# Calcuating by hand to validate\n",
    "import math\n",
    "print(math.sqrt(8)+4)\n",
    "\n",
    "# Calculating using function.\n",
    "polygperim([(0,0),(0,2),(2,0)])"
   ]
  },
  {
   "cell_type": "code",
   "execution_count": 61,
   "metadata": {
    "collapsed": false
   },
   "outputs": [
    {
     "data": {
      "text/plain": [
       "6.82842712474619"
      ]
     },
     "execution_count": 61,
     "metadata": {},
     "output_type": "execute_result"
    }
   ],
   "source": [
    "# Checking if function accepts tuple.\n",
    "polygperim(((0,0),(0,2),(2,0)))"
   ]
  },
  {
   "cell_type": "code",
   "execution_count": 38,
   "metadata": {
    "collapsed": false
   },
   "outputs": [
    {
     "name": "stdout",
     "output_type": "stream",
     "text": [
      "ERROR: 5\n",
      "Input parameter is not of type list or tuple. Cannot calculate perimeter\n"
     ]
    }
   ],
   "source": [
    "# Checking if function errors when non-list/tuple parameter is provided\n",
    "polygperim(5)"
   ]
  },
  {
   "cell_type": "code",
   "execution_count": 63,
   "metadata": {
    "collapsed": false
   },
   "outputs": [
    {
     "name": "stdout",
     "output_type": "stream",
     "text": [
      "ERROR: [(0, 0), (3, 5)]\n",
      "Input parameter is less than three. Cannot create polygon with less than three points\n"
     ]
    }
   ],
   "source": [
    "# Checking if function errors when input length is less than 3 points. \n",
    "polygperim([(0,0),(3,5)])"
   ]
  },
  {
   "cell_type": "code",
   "execution_count": 31,
   "metadata": {
    "collapsed": false
   },
   "outputs": [
    {
     "name": "stdout",
     "output_type": "stream",
     "text": [
      "ERROR: (3, 5, 6)\n",
      "Input parameters contains non (x,y) coordinate elements.\n",
      "Input list/tuple should contain three or more (x,y) coordinates\n",
      "Each coordinate must be a tuple/list of exactly 2 numbers\n"
     ]
    }
   ],
   "source": [
    "# Checking if function errors when a coordinate is longer than 2.\n",
    "polygperim([(0,0),(3,5,6),(0,0)])"
   ]
  },
  {
   "cell_type": "code",
   "execution_count": 32,
   "metadata": {
    "collapsed": false
   },
   "outputs": [
    {
     "name": "stdout",
     "output_type": "stream",
     "text": [
      "ERROR: 3\n",
      "At least one of the coordinates in input is not of type tuple/list\n",
      "Input list/tuple should contain three or more (x,y) coordinates\n",
      "Each coordinate must be a tuple/list of exactly 2 numbers\n"
     ]
    }
   ],
   "source": [
    "# Checking if function errors when a coordinate is smaller than 2.\n",
    "polygperim([(0,0),(3),(0,0)])"
   ]
  },
  {
   "cell_type": "code",
   "execution_count": 33,
   "metadata": {
    "collapsed": false
   },
   "outputs": [
    {
     "name": "stdout",
     "output_type": "stream",
     "text": [
      "ERROR: ('a', 0)\n",
      "Input parameter contains non-numerical coordinate points.\n",
      "Input list/tuple should contain three or more (x,y) coordinates\n",
      "Each coordinate must be a tuple/list of exactly 2 numbers\n"
     ]
    }
   ],
   "source": [
    "# Checking if function errors when non-numeric x is used.\n",
    "polygperim(((\"a\",0),(0,2),(2,0)))"
   ]
  },
  {
   "cell_type": "code",
   "execution_count": 34,
   "metadata": {
    "collapsed": false
   },
   "outputs": [
    {
     "name": "stdout",
     "output_type": "stream",
     "text": [
      "ERROR: (2, 'b')\n",
      "Input parameter contains non-numerical coordinate points.\n",
      "Input list/tuple should contain three or more (x,y) coordinates\n",
      "Each coordinate must be a tuple/list of exactly 2 numbers\n"
     ]
    }
   ],
   "source": [
    "# Checking if function errors when non-numeric y is used.\n",
    "polygperim(((0,0),(0,2),(2,\"b\")))"
   ]
  },
  {
   "cell_type": "code",
   "execution_count": 60,
   "metadata": {
    "collapsed": false
   },
   "outputs": [
    {
     "name": "stdout",
     "output_type": "stream",
     "text": [
      "ERROR: Input coordinates do not make a polygon\n",
      "In order to get perimeter, coordinates must for a polygon\n",
      "Cannot create polygon if all segments have same slope\n",
      "\n",
      "ERROR: Input coordinates do not make a polygon\n",
      "In order to get perimeter, coordinates must for a polygon\n",
      "Cannot create polygon if all segments have same slope\n"
     ]
    }
   ],
   "source": [
    "# Checking if error is printed when all segments are same slope\n",
    "polygperim(((0,0),(1,1),(2,2)))\n",
    "print(\"\")\n",
    "polygperim(((-1,0),(-4,0),(5,0)))"
   ]
  },
  {
   "cell_type": "markdown",
   "metadata": {},
   "source": [
    "# Polygarea"
   ]
  },
  {
   "cell_type": "code",
   "execution_count": 75,
   "metadata": {
    "collapsed": false
   },
   "outputs": [],
   "source": [
    "def polygarea(coords):\n",
    "    \n",
    "    \"\"\" This function takes an input parameter list of coordinate points of a polygon and returns the area of \n",
    "       the polygon. The input must be of type list or of type tuple and must be at least of length three. In order\n",
    "       to qualify as a polygon, there must be some variation in slope between points.\n",
    "       \n",
    "       ***********************************************************************************************************\n",
    "       NOTE:\n",
    "       It is important to note that coordinate points in the input list/tuple must be in clockwise/counter-clockwise\n",
    "       order in order to get accurate area. Area calculation assumes that each point is follwed by the next\n",
    "       point to form the edges in the perimeter of the polygon. It is assumed that the last point and first point \n",
    "       connect to close off the polygon.\n",
    "    \"\"\"\n",
    "    \n",
    "    # Checking if input is of type tuple or list. If it is not, the function will return an error and terminate.\n",
    "    if not isinstance(coords, (list,tuple)):\n",
    "        print(\"ERROR: \" + str(coords))\n",
    "        print(\"Input parameter is not of type list or tuple. Cannot calculate area.\")\n",
    "        return\n",
    "    \n",
    "    # Checking if input list/tuple is at least length 3. Without three coordinates, there cannot be a polygon.\n",
    "    if len(coords) < 3:\n",
    "        print(\"ERROR: \" + str(coords))\n",
    "        print(\"Input parameter is less than three. Cannot create polygon with less than three points.\")\n",
    "        return\n",
    "    \n",
    "    # Iterating through elements in input to validate coordinate points. \n",
    "    for i in coords:\n",
    "        # Checking if coordinate point is not of type tuple/list\n",
    "        if not isinstance(i, (list,tuple)):\n",
    "            print(\"ERROR: \" + str(i))\n",
    "            print(\"At least one of the coordinates in input is not of type tuple/list.\")\n",
    "            print(\"Input list/tuple should contain three or more (x,y) coordinates.\")\n",
    "            print(\"Each coordinate must be a tuple/list of exactly 2 numbers.\")\n",
    "            return        \n",
    "        # Checking if coordinate is of length 2.\n",
    "        if len(i) != 2:\n",
    "            print(\"ERROR: \" + str(i))\n",
    "            print(\"Input parameters contains non (x,y) coordinate elements.\")\n",
    "            print(\"Input list/tuple should contain three or more (x,y) coordinates.\")\n",
    "            print(\"Each coordinate must be a tuple/list of exactly 2 numbers.\")\n",
    "            return\n",
    "        # After verifying that coordinate is exactly two elements long, checking for non-numeric\n",
    "        # coordinate points.\n",
    "        \n",
    "        # Validating x coordinate.\n",
    "        elif not isinstance(i[0], (int, float)):\n",
    "            print(\"ERROR: \" + str(i))\n",
    "            print(\"Input parameter contains non-numerical coordinate points.\")\n",
    "            print(\"Input list/tuple should contain three or more (x,y) coordinates\")\n",
    "            print(\"Each coordinate must be a tuple/list of exactly 2 numbers\")\n",
    "            return\n",
    "        # Validating y coordinate.\n",
    "        elif not isinstance(i[1], (int, float)):\n",
    "            print(\"ERROR: \" + str(i))\n",
    "            print(\"Input parameter contains non-numerical coordinate points.\")\n",
    "            print(\"Input list/tuple should contain three or more (x,y) coordinates.\")\n",
    "            print(\"Each coordinate must be a tuple/list of exactly 2 numbers.\")\n",
    "            return\n",
    "    \n",
    "    \n",
    "    # If no change in slope, point is a line segment, cannot calculate area.\n",
    "    # Initiating boolean variable that holds T/F if coordinates make a polygon.\n",
    "    polygon = False\n",
    "    # Initiating empty list to hold slopes of all line segments\n",
    "    slopes = []\n",
    "    # Iterating through coordinate points to get slopes of line segments.\n",
    "    for i,k in enumerate(coords):\n",
    "        # No need to get slope of last point and first point. \n",
    "        if i < (len(coords)-1):\n",
    "            rise = (coords[i+1][1] - coords[i][1])\n",
    "            run = (coords[i+1][0]-coords[i][0])\n",
    "            # If run == 0, slope is undefined -- It's a vertical line. \n",
    "            if run == 0:\n",
    "                m = \"undef\"\n",
    "            # All other values, calculate the slope.\n",
    "            else:\n",
    "                m = rise / run            \n",
    "            # Add slope to list of slopes.\n",
    "            slopes.append(m)\n",
    "    # Iterating through points to determine if slopes are all equivalent.\n",
    "    for i, k in enumerate(slopes):\n",
    "        # Need to perform test as long as polygon is false. At least one change in slope is necessary to be polygon.\n",
    "        if polygon is False:\n",
    "            # No need to check if last slope is equal to first.\n",
    "            if i < (len(slopes)-1):\n",
    "                # If current slope is not equal to next slope, we can determine that coordinates make a polygon.\n",
    "                if slopes[i] != slopes[i+1]:\n",
    "                    polygon = True\n",
    "    # If final determination is that polygon is false, we do not have a polygon. \n",
    "    if polygon is False:\n",
    "        print(\"ERROR: Input coordinates do not make a polygon.\")\n",
    "        print(\"In order to get area, coordinates must form a polygon.\")\n",
    "        print(\"Cannot create polygon if all segments have same slope.\")\n",
    "        return\n",
    "    \n",
    "    \n",
    "    \n",
    "    # If no errors found above, it is determined that a correct polygon is entered. \n",
    "    # Proceeding to calculate area. \n",
    "    \n",
    "    # Initialzing area variable set to 0.\n",
    "    area = 0\n",
    "    # Iterating through coordinate points in coords.\n",
    "    for i, k in enumerate(coords):\n",
    "        # If it's the last coordinate point, need to use first coordinate point in area formula.\n",
    "        if i == (len(coords)-1):\n",
    "            # Calculating x(i) times y(0)\n",
    "            a = (coords[i][0] * coords[0][1])\n",
    "            # Calculating x(0) times y(i)\n",
    "            b = (coords[0][0] * coords[i][1])\n",
    "            # Taking difference of above calculations\n",
    "            c = a - b\n",
    "            # Updating area summation\n",
    "            area += c\n",
    "        else:\n",
    "            # Calculating x(i) times y(i+1)\n",
    "            a = (coords[i][0] * coords[i+1][1])\n",
    "            # Calculating x(i+1) times y(i)\n",
    "            b = (coords[i+1][0] * coords[i][1])\n",
    "            # Taking difference of above calculation\n",
    "            c = a - b\n",
    "            # Updating area summation\n",
    "            area += c\n",
    "    # Getting final area by dividing the absolute value of summation by 2, as per area formula. \n",
    "    area = abs(area)/2\n",
    "    return area\n",
    "    "
   ]
  },
  {
   "cell_type": "code",
   "execution_count": 68,
   "metadata": {
    "collapsed": false
   },
   "outputs": [
    {
     "data": {
      "text/plain": [
       "16.0"
      ]
     },
     "execution_count": 68,
     "metadata": {},
     "output_type": "execute_result"
    }
   ],
   "source": [
    "# Checking if function properly calculates area\n",
    "polygarea([(0,0),(4,0),(4,4),(0,4)]) # Works"
   ]
  },
  {
   "cell_type": "code",
   "execution_count": 71,
   "metadata": {
    "collapsed": false
   },
   "outputs": [
    {
     "data": {
      "text/plain": [
       "2.0"
      ]
     },
     "execution_count": 71,
     "metadata": {},
     "output_type": "execute_result"
    }
   ],
   "source": [
    "# Checking if function properly calculates area of triangle\n",
    "polygarea([(0,0),(0,2),(2,0)]) # Works"
   ]
  },
  {
   "cell_type": "code",
   "execution_count": 72,
   "metadata": {
    "collapsed": false
   },
   "outputs": [
    {
     "data": {
      "text/plain": [
       "8.0"
      ]
     },
     "execution_count": 72,
     "metadata": {},
     "output_type": "execute_result"
    }
   ],
   "source": [
    "# Checking if function properly calculates area of trapezoid\n",
    "\n",
    "# Should be 8. \n",
    "polygarea([(0,0),(2,2),(4,2),(6,0)]) # Works"
   ]
  },
  {
   "cell_type": "code",
   "execution_count": 77,
   "metadata": {
    "collapsed": false
   },
   "outputs": [
    {
     "name": "stdout",
     "output_type": "stream",
     "text": [
      "ERROR: 5\n",
      "Input parameter is not of type list or tuple. Cannot calculate area.\n"
     ]
    }
   ],
   "source": [
    "# Checking if function errors when non-list/tuple parameter is provided\n",
    "polygarea(5)"
   ]
  },
  {
   "cell_type": "code",
   "execution_count": 76,
   "metadata": {
    "collapsed": false
   },
   "outputs": [
    {
     "name": "stdout",
     "output_type": "stream",
     "text": [
      "ERROR: [(0, 0), (3, 5)]\n",
      "Input parameter is less than three. Cannot create polygon with less than three points.\n"
     ]
    }
   ],
   "source": [
    "# Checking if function errors when input length is less than 3 points. \n",
    "polygarea([(0,0),(3,5)])"
   ]
  },
  {
   "cell_type": "code",
   "execution_count": 78,
   "metadata": {
    "collapsed": false
   },
   "outputs": [
    {
     "name": "stdout",
     "output_type": "stream",
     "text": [
      "ERROR: (3, 5, 6)\n",
      "Input parameters contains non (x,y) coordinate elements.\n",
      "Input list/tuple should contain three or more (x,y) coordinates.\n",
      "Each coordinate must be a tuple/list of exactly 2 numbers.\n"
     ]
    }
   ],
   "source": [
    "# Checking if function errors when a coordinate is longer than 2.\n",
    "polygarea([(0,0),(3,5,6),(0,0)])"
   ]
  },
  {
   "cell_type": "code",
   "execution_count": 80,
   "metadata": {
    "collapsed": false
   },
   "outputs": [
    {
     "name": "stdout",
     "output_type": "stream",
     "text": [
      "ERROR: 3\n",
      "At least one of the coordinates in input is not of type tuple/list.\n",
      "Input list/tuple should contain three or more (x,y) coordinates.\n",
      "Each coordinate must be a tuple/list of exactly 2 numbers.\n"
     ]
    }
   ],
   "source": [
    "# Checking if function errors when a coordinate is smaller than 2.\n",
    "polygarea([(0,0),(3),(0,0)])"
   ]
  },
  {
   "cell_type": "code",
   "execution_count": 81,
   "metadata": {
    "collapsed": false
   },
   "outputs": [
    {
     "name": "stdout",
     "output_type": "stream",
     "text": [
      "ERROR: ('a', 0)\n",
      "Input parameter contains non-numerical coordinate points.\n",
      "Input list/tuple should contain three or more (x,y) coordinates\n",
      "Each coordinate must be a tuple/list of exactly 2 numbers\n"
     ]
    }
   ],
   "source": [
    "# Checking if function errors when non-numeric x is used.\n",
    "polygarea(((\"a\",0),(0,2),(2,0)))"
   ]
  },
  {
   "cell_type": "code",
   "execution_count": 82,
   "metadata": {
    "collapsed": false
   },
   "outputs": [
    {
     "name": "stdout",
     "output_type": "stream",
     "text": [
      "ERROR: (2, 'b')\n",
      "Input parameter contains non-numerical coordinate points.\n",
      "Input list/tuple should contain three or more (x,y) coordinates.\n",
      "Each coordinate must be a tuple/list of exactly 2 numbers.\n"
     ]
    }
   ],
   "source": [
    "# Checking if function errors when non-numeric y is used.\n",
    "polygarea(((0,0),(0,2),(2,\"b\")))"
   ]
  },
  {
   "cell_type": "code",
   "execution_count": 83,
   "metadata": {
    "collapsed": false
   },
   "outputs": [
    {
     "name": "stdout",
     "output_type": "stream",
     "text": [
      "ERROR: Input coordinates do not make a polygon.\n",
      "In order to get area, coordinates must form a polygon.\n",
      "Cannot create polygon if all segments have same slope.\n",
      "\n",
      "ERROR: Input coordinates do not make a polygon.\n",
      "In order to get area, coordinates must form a polygon.\n",
      "Cannot create polygon if all segments have same slope.\n"
     ]
    }
   ],
   "source": [
    "# Checking if error is printed when all segments are same slope\n",
    "polygarea(((0,0),(1,1),(2,2)))\n",
    "print(\"\")\n",
    "polygarea(((-1,0),(-4,0),(5,0)))"
   ]
  },
  {
   "cell_type": "code",
   "execution_count": null,
   "metadata": {
    "collapsed": true
   },
   "outputs": [],
   "source": []
  }
 ],
 "metadata": {
  "kernelspec": {
   "display_name": "Python 3",
   "language": "python",
   "name": "python3"
  },
  "language_info": {
   "codemirror_mode": {
    "name": "ipython",
    "version": 3
   },
   "file_extension": ".py",
   "mimetype": "text/x-python",
   "name": "python",
   "nbconvert_exporter": "python",
   "pygments_lexer": "ipython3",
   "version": "3.4.3"
  }
 },
 "nbformat": 4,
 "nbformat_minor": 0
}
