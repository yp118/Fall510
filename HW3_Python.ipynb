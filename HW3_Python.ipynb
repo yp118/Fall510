{
 "cells": [
  {
   "cell_type": "markdown",
   "metadata": {},
   "source": [
    "# Problem One\n",
    "## Histogram"
   ]
  },
  {
   "cell_type": "code",
   "execution_count": 7,
   "metadata": {
    "collapsed": false
   },
   "outputs": [
    {
     "name": "stdout",
     "output_type": "stream",
     "text": [
      "****\n",
      "*********\n",
      "*******\n",
      "This list contains non-integer values. Cannot form histogram.\n",
      "This list contains non-integer values. Cannot form histogram.\n",
      "*\n",
      "**\n",
      "***\n",
      "****\n",
      "*****\n",
      "******\n",
      "*******\n",
      "********\n",
      "*******\n",
      "******\n",
      "*****\n",
      "****\n",
      "***\n",
      "**\n",
      "*\n"
     ]
    }
   ],
   "source": [
    "# Defining the function histogram that takes a list of numbers  and prints a histogram of the values.\n",
    "\n",
    "def histogram(list):\n",
    "    '''This function generates a histogram from a list of numbers.\n",
    "       Parameters -\n",
    "         list: a list of integers.\n",
    "    '''\n",
    "    \n",
    "    # Iterating through list to check if all values are integers. If not, function will print error and end.\n",
    "    for num in list:\n",
    "        if not isinstance(num,int):\n",
    "            print(\"This list contains non-integer values. Cannot form histogram.\")\n",
    "            return\n",
    "    \n",
    "    for x in list: # Iterating through each of the numbers in the list\n",
    "        print(\"*\"*x) # Printing a line of asterisks as long as the number\n",
    "    return # Ending the function.\n",
    "    \n",
    "histogram([4,9,7])\n",
    "histogram([4,\"nine\",7])\n",
    "histogram([4,7.5,9])\n",
    "histogram([1,2,3,4,5,6,7,8,7,6,5,4,3,2,1])"
   ]
  },
  {
   "cell_type": "markdown",
   "metadata": {},
   "source": [
    "# Problem Two\n",
    "## Max_in_list"
   ]
  },
  {
   "cell_type": "code",
   "execution_count": 14,
   "metadata": {
    "collapsed": false
   },
   "outputs": [
    {
     "data": {
      "text/plain": [
       "9.9"
      ]
     },
     "execution_count": 14,
     "metadata": {},
     "output_type": "execute_result"
    }
   ],
   "source": [
    "# Defining function max_in_list that takes a list of numbers and returns the largest in the list.\n",
    "\n",
    "def max_in_list(list):\n",
    "    '''This function takes a list of numbers are returns the largest one.\n",
    "       Parameters-\n",
    "         list: a list of numbers\n",
    "    '''\n",
    "    \n",
    "    # Iterating through list to check if all values are numbers. If not, function will print error and end.\n",
    "    for num in list:\n",
    "        if not isinstance(num,(int,float)):\n",
    "            print(\"This list contains non-numerical values. Cannot get max.\")\n",
    "            return\n",
    "        \n",
    "    largest = list[0] # Setting the largest number to the first in the list.\n",
    "    for x in list: # Iterating through each number in the list.\n",
    "        if x > largest: \n",
    "            largest = x # If current number is greater than the largest, updating largest number\n",
    "    return largest # At the end of the loop, return the largest number.\n",
    "\n",
    "max_in_list([4.5,9.6,9.9])"
   ]
  },
  {
   "cell_type": "markdown",
   "metadata": {},
   "source": [
    "# Problem Three\n",
    "## Length of words"
   ]
  },
  {
   "cell_type": "code",
   "execution_count": 15,
   "metadata": {
    "collapsed": false
   },
   "outputs": [
    {
     "data": {
      "text/plain": [
       "[3, 3, 5]"
      ]
     },
     "execution_count": 15,
     "metadata": {},
     "output_type": "execute_result"
    }
   ],
   "source": [
    "# Defining function word_lengths that takes a list of words and returns a list of the length of each word.\n",
    "\n",
    "def word_lengths(list):\n",
    "    '''This function takes a list of words and returns a list with their respective lengths'''\n",
    "    lengths = [] # Creating an empty list.\n",
    "    for word in list: # Iterating through each word in the list.\n",
    "        lengths.append(len(word)) # Adding the length of the word to the list.\n",
    "    return lengths\n",
    "\n",
    "word_lengths([\"one\", \"two\", \"three\"])"
   ]
  },
  {
   "cell_type": "markdown",
   "metadata": {},
   "source": [
    "# Problem Four\n",
    "## Longest word"
   ]
  },
  {
   "cell_type": "code",
   "execution_count": 16,
   "metadata": {
    "collapsed": false
   },
   "outputs": [
    {
     "data": {
      "text/plain": [
       "5"
      ]
     },
     "execution_count": 16,
     "metadata": {},
     "output_type": "execute_result"
    }
   ],
   "source": [
    "# Defining function find_longest_word that takes a list of words and returns the longest one. \n",
    "\n",
    "def find_longest_word(list):\n",
    "    '''This function takes a list of words and returns the length of the longest one.'''\n",
    "    lengths = word_lengths(list) # Using word_lengths from above to get list of word lengths.\n",
    "    x = max_in_list(lengths) # Using max_in_list from above to get largest number in list.\n",
    "    return x\n",
    "\n",
    "find_longest_word([\"one\", \"two\", \"three\"])"
   ]
  },
  {
   "cell_type": "markdown",
   "metadata": {},
   "source": [
    "# Problem Five\n",
    "## Filter_long_words"
   ]
  },
  {
   "cell_type": "code",
   "execution_count": 21,
   "metadata": {
    "collapsed": false
   },
   "outputs": [
    {
     "data": {
      "text/plain": [
       "['three', 'five', 'eighteen']"
      ]
     },
     "execution_count": 21,
     "metadata": {},
     "output_type": "execute_result"
    }
   ],
   "source": [
    "# Defining function filter_long_words that takes a list of words and an integer. A new list with only words that are\n",
    "# longer than the interger is returned. \n",
    "\n",
    "def filter_long_words(list, num):\n",
    "    ''' This function takes a list of words and a number and returns a list of words that are longer than the \n",
    "        number provided.\n",
    "    '''\n",
    "    \n",
    "    filtered = [] # Creating an empty list\n",
    "    \n",
    "    for word in list: # Iterating through each word in list.\n",
    "        if len(word) > num: # Checking if length of word is larger than the number. \n",
    "            filtered.append(word) # If word is longer than the number, the word is added to the list. \n",
    "    return filtered # Return final list of words. \n",
    "\n",
    "filter_long_words([\"one\", \"two\", \"three\", \"five\", \"eighteen\"],3)"
   ]
  },
  {
   "cell_type": "markdown",
   "metadata": {},
   "source": [
    "# Problem Six\n",
    "## Palindrome"
   ]
  },
  {
   "cell_type": "code",
   "execution_count": 31,
   "metadata": {
    "collapsed": false
   },
   "outputs": [
    {
     "data": {
      "text/plain": [
       "True"
      ]
     },
     "execution_count": 31,
     "metadata": {},
     "output_type": "execute_result"
    }
   ],
   "source": [
    "# Defining function is_palandrome that will return true if input string is a palandrome.\n",
    "def is_palandrome(a):\n",
    "    import re # Importing regex module to use in function.\n",
    "    \"\"\"\n",
    "    This function takes a string and return True if string is a palandrome. \n",
    "    \"\"\"\n",
    "    # Checking to see if input parameter is a string.\n",
    "    if not isinstance(a,str):\n",
    "        # If parameter is not a string, print error.\n",
    "        print(\"Parameter is not a string\")\n",
    "        print(\"Please use a string\")\n",
    "        return # End function. Return nothing.\n",
    "    else:\n",
    "        # If it is determined that input is a string compute the reverse\n",
    "        a = re.sub(\"[\\W]\",\"\", a) # Using Regualar Expression to remove non-word characters\n",
    "        a = a.lower() # Converting string to lowercase.\n",
    "        rev = \"\" # Initializing an empty string to store reverse\n",
    "        for i in a: # Looping through all the elements in the list.\n",
    "            rev =  i + rev # Adding element to front of string.\n",
    "\n",
    "    # Checking to see if input string equals reverse string.\n",
    "    if str(a) == str(rev):\n",
    "        # If reverse and input are the same, return True.\n",
    "        return True\n",
    "    else:\n",
    "        # if reverse and input are not the same, return False. \n",
    "        return False\n",
    "    \n",
    "is_palandrome(\"Was it a rat I saw?\")"
   ]
  },
  {
   "cell_type": "markdown",
   "metadata": {},
   "source": [
    "# Problem Seven\n",
    "## is_pangram"
   ]
  },
  {
   "cell_type": "code",
   "execution_count": 34,
   "metadata": {
    "collapsed": false
   },
   "outputs": [
    {
     "data": {
      "text/plain": [
       "True"
      ]
     },
     "execution_count": 34,
     "metadata": {},
     "output_type": "execute_result"
    }
   ],
   "source": [
    "# Defining a function is_pangram that checks to see if a sentence is a pangram.\n",
    "\n",
    "def is_pangram(a):\n",
    "    ''' This function takes an input string and returns true if it is a pangram. If not, it returns false. '''\n",
    "    # Checking to see if input parameter is a string.\n",
    "    if not isinstance(a,str):\n",
    "        # If parameter is not a string, print error.\n",
    "        print(\"Parameter is not a string\")\n",
    "        print(\"Please use a string\")\n",
    "        return # End function. Return nothing.\n",
    "    else:\n",
    "        # Input parameter is a string.\n",
    "        \n",
    "        # Converting string to lowercase.\n",
    "        a = a.lower()\n",
    "        \n",
    "        # Generating string for the alphabet\n",
    "        alphabet = \"abcdefghijklmnopqrstuvwxyz\"\n",
    "        \n",
    "        for letter in alphabet: # Iterating through each letter in the alhpabet.\n",
    "            if letter not in a:\n",
    "                return False # If a letter is not found in the input, returns false.\n",
    "        return True # If all letters found in the input, returns true. \n",
    "    \n",
    "is_pangram(\"The quick brown fox jumps over the lazy dog\")\n",
    "            "
   ]
  },
  {
   "cell_type": "markdown",
   "metadata": {},
   "source": [
    "# Problem Eight\n",
    "## Bottles_Song"
   ]
  },
  {
   "cell_type": "code",
   "execution_count": 39,
   "metadata": {
    "collapsed": false
   },
   "outputs": [
    {
     "name": "stdout",
     "output_type": "stream",
     "text": [
      "99 bottles of coke on the wall, 99 bottles of coke!\n",
      "Take one down, pass it around, 98 bottles of coke on the wall.\n",
      "\n",
      "98 bottles of coke on the wall, 98 bottles of coke!\n",
      "Take one down, pass it around, 97 bottles of coke on the wall.\n",
      "\n",
      "97 bottles of coke on the wall, 97 bottles of coke!\n",
      "Take one down, pass it around, 96 bottles of coke on the wall.\n",
      "\n",
      "96 bottles of coke on the wall, 96 bottles of coke!\n",
      "Take one down, pass it around, 95 bottles of coke on the wall.\n",
      "\n",
      "95 bottles of coke on the wall, 95 bottles of coke!\n",
      "Take one down, pass it around, 94 bottles of coke on the wall.\n",
      "\n",
      "94 bottles of coke on the wall, 94 bottles of coke!\n",
      "Take one down, pass it around, 93 bottles of coke on the wall.\n",
      "\n",
      "93 bottles of coke on the wall, 93 bottles of coke!\n",
      "Take one down, pass it around, 92 bottles of coke on the wall.\n",
      "\n",
      "92 bottles of coke on the wall, 92 bottles of coke!\n",
      "Take one down, pass it around, 91 bottles of coke on the wall.\n",
      "\n",
      "91 bottles of coke on the wall, 91 bottles of coke!\n",
      "Take one down, pass it around, 90 bottles of coke on the wall.\n",
      "\n",
      "90 bottles of coke on the wall, 90 bottles of coke!\n",
      "Take one down, pass it around, 89 bottles of coke on the wall.\n",
      "\n",
      "89 bottles of coke on the wall, 89 bottles of coke!\n",
      "Take one down, pass it around, 88 bottles of coke on the wall.\n",
      "\n",
      "88 bottles of coke on the wall, 88 bottles of coke!\n",
      "Take one down, pass it around, 87 bottles of coke on the wall.\n",
      "\n",
      "87 bottles of coke on the wall, 87 bottles of coke!\n",
      "Take one down, pass it around, 86 bottles of coke on the wall.\n",
      "\n",
      "86 bottles of coke on the wall, 86 bottles of coke!\n",
      "Take one down, pass it around, 85 bottles of coke on the wall.\n",
      "\n",
      "85 bottles of coke on the wall, 85 bottles of coke!\n",
      "Take one down, pass it around, 84 bottles of coke on the wall.\n",
      "\n",
      "84 bottles of coke on the wall, 84 bottles of coke!\n",
      "Take one down, pass it around, 83 bottles of coke on the wall.\n",
      "\n",
      "83 bottles of coke on the wall, 83 bottles of coke!\n",
      "Take one down, pass it around, 82 bottles of coke on the wall.\n",
      "\n",
      "82 bottles of coke on the wall, 82 bottles of coke!\n",
      "Take one down, pass it around, 81 bottles of coke on the wall.\n",
      "\n",
      "81 bottles of coke on the wall, 81 bottles of coke!\n",
      "Take one down, pass it around, 80 bottles of coke on the wall.\n",
      "\n",
      "80 bottles of coke on the wall, 80 bottles of coke!\n",
      "Take one down, pass it around, 79 bottles of coke on the wall.\n",
      "\n",
      "79 bottles of coke on the wall, 79 bottles of coke!\n",
      "Take one down, pass it around, 78 bottles of coke on the wall.\n",
      "\n",
      "78 bottles of coke on the wall, 78 bottles of coke!\n",
      "Take one down, pass it around, 77 bottles of coke on the wall.\n",
      "\n",
      "77 bottles of coke on the wall, 77 bottles of coke!\n",
      "Take one down, pass it around, 76 bottles of coke on the wall.\n",
      "\n",
      "76 bottles of coke on the wall, 76 bottles of coke!\n",
      "Take one down, pass it around, 75 bottles of coke on the wall.\n",
      "\n",
      "75 bottles of coke on the wall, 75 bottles of coke!\n",
      "Take one down, pass it around, 74 bottles of coke on the wall.\n",
      "\n",
      "74 bottles of coke on the wall, 74 bottles of coke!\n",
      "Take one down, pass it around, 73 bottles of coke on the wall.\n",
      "\n",
      "73 bottles of coke on the wall, 73 bottles of coke!\n",
      "Take one down, pass it around, 72 bottles of coke on the wall.\n",
      "\n",
      "72 bottles of coke on the wall, 72 bottles of coke!\n",
      "Take one down, pass it around, 71 bottles of coke on the wall.\n",
      "\n",
      "71 bottles of coke on the wall, 71 bottles of coke!\n",
      "Take one down, pass it around, 70 bottles of coke on the wall.\n",
      "\n",
      "70 bottles of coke on the wall, 70 bottles of coke!\n",
      "Take one down, pass it around, 69 bottles of coke on the wall.\n",
      "\n",
      "69 bottles of coke on the wall, 69 bottles of coke!\n",
      "Take one down, pass it around, 68 bottles of coke on the wall.\n",
      "\n",
      "68 bottles of coke on the wall, 68 bottles of coke!\n",
      "Take one down, pass it around, 67 bottles of coke on the wall.\n",
      "\n",
      "67 bottles of coke on the wall, 67 bottles of coke!\n",
      "Take one down, pass it around, 66 bottles of coke on the wall.\n",
      "\n",
      "66 bottles of coke on the wall, 66 bottles of coke!\n",
      "Take one down, pass it around, 65 bottles of coke on the wall.\n",
      "\n",
      "65 bottles of coke on the wall, 65 bottles of coke!\n",
      "Take one down, pass it around, 64 bottles of coke on the wall.\n",
      "\n",
      "64 bottles of coke on the wall, 64 bottles of coke!\n",
      "Take one down, pass it around, 63 bottles of coke on the wall.\n",
      "\n",
      "63 bottles of coke on the wall, 63 bottles of coke!\n",
      "Take one down, pass it around, 62 bottles of coke on the wall.\n",
      "\n",
      "62 bottles of coke on the wall, 62 bottles of coke!\n",
      "Take one down, pass it around, 61 bottles of coke on the wall.\n",
      "\n",
      "61 bottles of coke on the wall, 61 bottles of coke!\n",
      "Take one down, pass it around, 60 bottles of coke on the wall.\n",
      "\n",
      "60 bottles of coke on the wall, 60 bottles of coke!\n",
      "Take one down, pass it around, 59 bottles of coke on the wall.\n",
      "\n",
      "59 bottles of coke on the wall, 59 bottles of coke!\n",
      "Take one down, pass it around, 58 bottles of coke on the wall.\n",
      "\n",
      "58 bottles of coke on the wall, 58 bottles of coke!\n",
      "Take one down, pass it around, 57 bottles of coke on the wall.\n",
      "\n",
      "57 bottles of coke on the wall, 57 bottles of coke!\n",
      "Take one down, pass it around, 56 bottles of coke on the wall.\n",
      "\n",
      "56 bottles of coke on the wall, 56 bottles of coke!\n",
      "Take one down, pass it around, 55 bottles of coke on the wall.\n",
      "\n",
      "55 bottles of coke on the wall, 55 bottles of coke!\n",
      "Take one down, pass it around, 54 bottles of coke on the wall.\n",
      "\n",
      "54 bottles of coke on the wall, 54 bottles of coke!\n",
      "Take one down, pass it around, 53 bottles of coke on the wall.\n",
      "\n",
      "53 bottles of coke on the wall, 53 bottles of coke!\n",
      "Take one down, pass it around, 52 bottles of coke on the wall.\n",
      "\n",
      "52 bottles of coke on the wall, 52 bottles of coke!\n",
      "Take one down, pass it around, 51 bottles of coke on the wall.\n",
      "\n",
      "51 bottles of coke on the wall, 51 bottles of coke!\n",
      "Take one down, pass it around, 50 bottles of coke on the wall.\n",
      "\n",
      "50 bottles of coke on the wall, 50 bottles of coke!\n",
      "Take one down, pass it around, 49 bottles of coke on the wall.\n",
      "\n",
      "49 bottles of coke on the wall, 49 bottles of coke!\n",
      "Take one down, pass it around, 48 bottles of coke on the wall.\n",
      "\n",
      "48 bottles of coke on the wall, 48 bottles of coke!\n",
      "Take one down, pass it around, 47 bottles of coke on the wall.\n",
      "\n",
      "47 bottles of coke on the wall, 47 bottles of coke!\n",
      "Take one down, pass it around, 46 bottles of coke on the wall.\n",
      "\n",
      "46 bottles of coke on the wall, 46 bottles of coke!\n",
      "Take one down, pass it around, 45 bottles of coke on the wall.\n",
      "\n",
      "45 bottles of coke on the wall, 45 bottles of coke!\n",
      "Take one down, pass it around, 44 bottles of coke on the wall.\n",
      "\n",
      "44 bottles of coke on the wall, 44 bottles of coke!\n",
      "Take one down, pass it around, 43 bottles of coke on the wall.\n",
      "\n",
      "43 bottles of coke on the wall, 43 bottles of coke!\n",
      "Take one down, pass it around, 42 bottles of coke on the wall.\n",
      "\n",
      "42 bottles of coke on the wall, 42 bottles of coke!\n",
      "Take one down, pass it around, 41 bottles of coke on the wall.\n",
      "\n",
      "41 bottles of coke on the wall, 41 bottles of coke!\n",
      "Take one down, pass it around, 40 bottles of coke on the wall.\n",
      "\n",
      "40 bottles of coke on the wall, 40 bottles of coke!\n",
      "Take one down, pass it around, 39 bottles of coke on the wall.\n",
      "\n",
      "39 bottles of coke on the wall, 39 bottles of coke!\n",
      "Take one down, pass it around, 38 bottles of coke on the wall.\n",
      "\n",
      "38 bottles of coke on the wall, 38 bottles of coke!\n",
      "Take one down, pass it around, 37 bottles of coke on the wall.\n",
      "\n",
      "37 bottles of coke on the wall, 37 bottles of coke!\n",
      "Take one down, pass it around, 36 bottles of coke on the wall.\n",
      "\n",
      "36 bottles of coke on the wall, 36 bottles of coke!\n",
      "Take one down, pass it around, 35 bottles of coke on the wall.\n",
      "\n",
      "35 bottles of coke on the wall, 35 bottles of coke!\n",
      "Take one down, pass it around, 34 bottles of coke on the wall.\n",
      "\n",
      "34 bottles of coke on the wall, 34 bottles of coke!\n",
      "Take one down, pass it around, 33 bottles of coke on the wall.\n",
      "\n",
      "33 bottles of coke on the wall, 33 bottles of coke!\n",
      "Take one down, pass it around, 32 bottles of coke on the wall.\n",
      "\n",
      "32 bottles of coke on the wall, 32 bottles of coke!\n",
      "Take one down, pass it around, 31 bottles of coke on the wall.\n",
      "\n",
      "31 bottles of coke on the wall, 31 bottles of coke!\n",
      "Take one down, pass it around, 30 bottles of coke on the wall.\n",
      "\n",
      "30 bottles of coke on the wall, 30 bottles of coke!\n",
      "Take one down, pass it around, 29 bottles of coke on the wall.\n",
      "\n",
      "29 bottles of coke on the wall, 29 bottles of coke!\n",
      "Take one down, pass it around, 28 bottles of coke on the wall.\n",
      "\n",
      "28 bottles of coke on the wall, 28 bottles of coke!\n",
      "Take one down, pass it around, 27 bottles of coke on the wall.\n",
      "\n",
      "27 bottles of coke on the wall, 27 bottles of coke!\n",
      "Take one down, pass it around, 26 bottles of coke on the wall.\n",
      "\n",
      "26 bottles of coke on the wall, 26 bottles of coke!\n",
      "Take one down, pass it around, 25 bottles of coke on the wall.\n",
      "\n",
      "25 bottles of coke on the wall, 25 bottles of coke!\n",
      "Take one down, pass it around, 24 bottles of coke on the wall.\n",
      "\n",
      "24 bottles of coke on the wall, 24 bottles of coke!\n",
      "Take one down, pass it around, 23 bottles of coke on the wall.\n",
      "\n",
      "23 bottles of coke on the wall, 23 bottles of coke!\n",
      "Take one down, pass it around, 22 bottles of coke on the wall.\n",
      "\n",
      "22 bottles of coke on the wall, 22 bottles of coke!\n",
      "Take one down, pass it around, 21 bottles of coke on the wall.\n",
      "\n",
      "21 bottles of coke on the wall, 21 bottles of coke!\n",
      "Take one down, pass it around, 20 bottles of coke on the wall.\n",
      "\n",
      "20 bottles of coke on the wall, 20 bottles of coke!\n",
      "Take one down, pass it around, 19 bottles of coke on the wall.\n",
      "\n",
      "19 bottles of coke on the wall, 19 bottles of coke!\n",
      "Take one down, pass it around, 18 bottles of coke on the wall.\n",
      "\n",
      "18 bottles of coke on the wall, 18 bottles of coke!\n",
      "Take one down, pass it around, 17 bottles of coke on the wall.\n",
      "\n",
      "17 bottles of coke on the wall, 17 bottles of coke!\n",
      "Take one down, pass it around, 16 bottles of coke on the wall.\n",
      "\n",
      "16 bottles of coke on the wall, 16 bottles of coke!\n",
      "Take one down, pass it around, 15 bottles of coke on the wall.\n",
      "\n",
      "15 bottles of coke on the wall, 15 bottles of coke!\n",
      "Take one down, pass it around, 14 bottles of coke on the wall.\n",
      "\n",
      "14 bottles of coke on the wall, 14 bottles of coke!\n",
      "Take one down, pass it around, 13 bottles of coke on the wall.\n",
      "\n",
      "13 bottles of coke on the wall, 13 bottles of coke!\n",
      "Take one down, pass it around, 12 bottles of coke on the wall.\n",
      "\n",
      "12 bottles of coke on the wall, 12 bottles of coke!\n",
      "Take one down, pass it around, 11 bottles of coke on the wall.\n",
      "\n",
      "11 bottles of coke on the wall, 11 bottles of coke!\n",
      "Take one down, pass it around, 10 bottles of coke on the wall.\n",
      "\n",
      "10 bottles of coke on the wall, 10 bottles of coke!\n",
      "Take one down, pass it around, 9 bottles of coke on the wall.\n",
      "\n",
      "9 bottles of coke on the wall, 9 bottles of coke!\n",
      "Take one down, pass it around, 8 bottles of coke on the wall.\n",
      "\n",
      "8 bottles of coke on the wall, 8 bottles of coke!\n",
      "Take one down, pass it around, 7 bottles of coke on the wall.\n",
      "\n",
      "7 bottles of coke on the wall, 7 bottles of coke!\n",
      "Take one down, pass it around, 6 bottles of coke on the wall.\n",
      "\n",
      "6 bottles of coke on the wall, 6 bottles of coke!\n",
      "Take one down, pass it around, 5 bottles of coke on the wall.\n",
      "\n",
      "5 bottles of coke on the wall, 5 bottles of coke!\n",
      "Take one down, pass it around, 4 bottles of coke on the wall.\n",
      "\n",
      "4 bottles of coke on the wall, 4 bottles of coke!\n",
      "Take one down, pass it around, 3 bottles of coke on the wall.\n",
      "\n",
      "3 bottles of coke on the wall, 3 bottles of coke!\n",
      "Take one down, pass it around, 2 bottles of coke on the wall.\n",
      "\n",
      "2 bottles of coke on the wall, 2 bottles of coke!\n",
      "Take one down, pass it around, 1 bottle of coke on the wall.\n",
      "\n",
      "1 bottle of coke on the wall, 1 bottle of coke!\n",
      "Take one down, pass it around, 0 bottles of coke on the wall.\n",
      "\n"
     ]
    }
   ],
   "source": [
    "# Defining a function bottles_song that takes a number and prints all of the verses of the \"99 bottles of Coke\" song \n",
    "# starting at that number.\n",
    "\n",
    "def bottles_song(num=99):\n",
    "    ''' This function prints each verse of the \"Bottles of Coke\" song starting at the number specified.'''\n",
    "    while num > 0: # Looping until number is 0.\n",
    "        # First line of verse.\n",
    "        if num != 1:\n",
    "            print(num, \"bottles of coke on the wall,\", num, \"bottles of coke!\") \n",
    "        else:\n",
    "            print(num, \"bottle of coke on the wall,\", num, \"bottle of coke!\") # Use singular \"bottle\" when num = 1.\n",
    "        # Second line of verse.\n",
    "        if num-1 != 1:\n",
    "            print(\"Take one down, pass it around,\", num-1, \"bottles of coke on the wall.\")\n",
    "        else:\n",
    "            print(\"Take one down, pass it around,\", num-1, \"bottle of coke on the wall.\") # Use \"bottle\" when num = 1.\n",
    "        print(\"\")\n",
    "        num -= 1 # Reducing number by 1.\n",
    "\n",
    "bottles_song()"
   ]
  },
  {
   "cell_type": "markdown",
   "metadata": {},
   "source": [
    "# Problem Nine\n",
    "## Translate to Swedish"
   ]
  },
  {
   "cell_type": "code",
   "execution_count": 42,
   "metadata": {
    "collapsed": false
   },
   "outputs": [
    {
     "data": {
      "text/plain": [
       "'god jul och gott nytt år '"
      ]
     },
     "execution_count": 42,
     "metadata": {},
     "output_type": "execute_result"
    }
   ],
   "source": [
    "# Defining a function that takes words and translates them to Swedish.\n",
    "\n",
    "def translate(words):\n",
    "    ''' This function takes a list of words and translates them to Swedish.\n",
    "        The function returns a translated sentence with the words\n",
    "    '''\n",
    "    \n",
    "    # Creating a dictionary to map the words to Translate.\n",
    "    translator = {\"merry\":\"god\", \"christmas\":\"jul\", \"and\":\"och\", \"happy\":\"gott\", \"new\":\"nytt\",\"year\":\"år\"}\n",
    "    # Creating an empty sentence to be updated\n",
    "    sentence = \"\"\n",
    "    \n",
    "    for word in words: # Iterating through each word in the list.\n",
    "        swedish = translator[word] # Creating variable swedish that is equal to the swedish translation of word.\n",
    "        sentence += swedish + \" \" # Adding Swedish word to the sentence.\n",
    "    return sentence # Returning final sentence. \n",
    "\n",
    "translate([\"merry\", \"christmas\", \"and\", \"happy\", \"new\", \"year\"])"
   ]
  },
  {
   "cell_type": "markdown",
   "metadata": {},
   "source": [
    "# Problem Ten\n",
    "## Char_freq"
   ]
  },
  {
   "cell_type": "code",
   "execution_count": 47,
   "metadata": {
    "collapsed": false
   },
   "outputs": [
    {
     "data": {
      "text/plain": [
       "{'a': 3, 'b': 3, 'c': 3}"
      ]
     },
     "execution_count": 47,
     "metadata": {},
     "output_type": "execute_result"
    }
   ],
   "source": [
    "# Defining a function that takes a string and returns a dictionary with the frequency of all characters in the string.\n",
    "\n",
    "def char_freq(string):\n",
    "    ''' This function takes a string and returns a dictionary with the frequenct of all characters in the string.'''\n",
    "    freqs = {} # Generating an empty dictionary\n",
    "    for i in string: # Iterating through each character in the string. \n",
    "        if i not in freqs.keys(): \n",
    "            freqs[i] = 1 # If the character is not in the dictionary add it the the dictionary and set frequency to 1.\n",
    "        else:\n",
    "            freqs[i] += 1 # If the character is in the dictionary, add 1 to the frequency.\n",
    "    return freqs # Return final dictionary of frequencies.\n",
    "\n",
    "char_freq(\"aaabbbccc\")"
   ]
  },
  {
   "cell_type": "markdown",
   "metadata": {},
   "source": [
    "# Problem Eleven\n",
    "## Ceaser Cipher"
   ]
  },
  {
   "cell_type": "code",
   "execution_count": 48,
   "metadata": {
    "collapsed": false
   },
   "outputs": [
    {
     "data": {
      "text/plain": [
       "'Caesar cipher? I much prefer Caesar salad!'"
      ]
     },
     "execution_count": 48,
     "metadata": {},
     "output_type": "execute_result"
    }
   ],
   "source": [
    "# Defining function rot13 that takes a string and decodes/encodes it from ROT-13.\n",
    "\n",
    "def rot13(string):\n",
    "    ''' This function takes a string and decodes/encodes it from ROT-13'''\n",
    "    \n",
    "    # Creating the dictionary that translates the letters.\n",
    "    key = {'a':'n', 'b':'o', 'c':'p', 'd':'q', 'e':'r', 'f':'s',\n",
    "           'g':'t', 'h':'u', 'i':'v', 'j':'w', 'k':'x', 'l':'y',\n",
    "           'm':'z', 'n':'a', 'o':'b', 'p':'c', 'q':'d', 'r':'e',\n",
    "           's':'f', 't':'g', 'u':'h', 'v':'i', 'w':'j', 'x':'k',\n",
    "           'y':'l', 'z':'m', 'A':'N', 'B':'O', 'C':'P', 'D':'Q',\n",
    "           'E':'R', 'F':'S', 'G':'T', 'H':'U', 'I':'V', 'J':'W',\n",
    "           'K':'X', 'L':'Y', 'M':'Z', 'N':'A', 'O':'B', 'P':'C',\n",
    "           'Q':'D', 'R':'E', 'S':'F', 'T':'G', 'U':'H', 'V':'I',\n",
    "           'W':'J', 'X':'K', 'Y':'L', 'Z':'M'}\n",
    "    # Creating an empty string to hold the translation.\n",
    "    translation = \"\" \n",
    "    \n",
    "    for i in string: # Iterating through each of the letters in the string.\n",
    "        if i in key.keys(): \n",
    "            k = key[i] # If the character is in the key, translate the letter and update the letter. \n",
    "        else:\n",
    "            k = i # If the character is not in the key, do not update the letter.\n",
    "        translation += k # Add the letter to the translation string.\n",
    "    return translation # Return final translation string. \n",
    "\n",
    "rot13(\"Pnrfne pvcure? V zhpu cersre Pnrfne fnynq!\")"
   ]
  },
  {
   "cell_type": "markdown",
   "metadata": {},
   "source": [
    "# Problem Twelve\n",
    "## Spelling Correction"
   ]
  },
  {
   "cell_type": "code",
   "execution_count": 85,
   "metadata": {
    "collapsed": false
   },
   "outputs": [
    {
     "data": {
      "text/plain": [
       "'This is very funny and cool. Indeed!'"
      ]
     },
     "execution_count": 85,
     "metadata": {},
     "output_type": "execute_result"
    }
   ],
   "source": [
    "# Defining a function that corrects the spacing of a sentence.\n",
    "\n",
    "def correct(string):\n",
    "    ''' This string takes an string and corrects the spacing of the sentence.'''\n",
    "    # Importing Regex module to identify patterns. \n",
    "    import re\n",
    "    \n",
    "    spaces = re.compile(\"\\\\s\\\\s\") # Compiling RegEx to find double spaces.\n",
    "    period = re.compile(\"\\.\\w\") # Compiling RegEx to find period followed by letter.\n",
    "    \n",
    "    string = re.sub(spaces, \" \", string) # Replacing double spaces with single space. \n",
    "    periods = re.findall(period, string) # Finding all occurences of period followed by letter.\n",
    "    for i in periods: # For each instance of period followed by a letter, we add a space between the period and letter.\n",
    "        string = re.sub(\"\\\\\"+i, \". \"+i[1], string)\n",
    "    \n",
    "    return string # Return the corrected string. \n",
    "\n",
    "correct(\"This is very  funny and cool.Indeed!\")"
   ]
  },
  {
   "cell_type": "markdown",
   "metadata": {},
   "source": [
    "# Problem Thirteen\n",
    "## make_3sg"
   ]
  },
  {
   "cell_type": "code",
   "execution_count": 95,
   "metadata": {
    "collapsed": false
   },
   "outputs": [
    {
     "data": {
      "text/plain": [
       "'fixes'"
      ]
     },
     "execution_count": 95,
     "metadata": {},
     "output_type": "execute_result"
    }
   ],
   "source": [
    "# Defining function make_3sg_form that takes an infinitive and returns the third person singular form.\n",
    "def make_3sg_form(string):\n",
    "    '''This function takes an infinitive verb and converts it third person singular form.'''\n",
    "    \n",
    "    if string.endswith(\"y\"): # Checking if string ends with \"y\".\n",
    "        string = string[:-1]+\"ies\" # If string ends with \"y\", remove \"y\" and add \"ied\"\n",
    "    elif string.endswith(\"o\") | string.endswith(\"ch\") | string.endswith(\"s\") | string.endswith(\"sh\") \\\n",
    "         | string.endswith(\"x\") | string.endswith(\"z\"): \n",
    "            string += \"es\" # If string ends with o, ch, s, sh, x, or z, as \"es\" to the end. \n",
    "    else:\n",
    "        string += \"s\"# For all other strings, add \"s\" to the end. \n",
    "    return string # Return converted string. \n",
    "    \n",
    "make_3sg_form(\"fix\")"
   ]
  },
  {
   "cell_type": "markdown",
   "metadata": {},
   "source": [
    "# Problem Fourteen\n",
    "## make_ing_form"
   ]
  },
  {
   "cell_type": "code",
   "execution_count": 114,
   "metadata": {
    "collapsed": false
   },
   "outputs": [
    {
     "data": {
      "text/plain": [
       "'adding'"
      ]
     },
     "execution_count": 114,
     "metadata": {},
     "output_type": "execute_result"
    }
   ],
   "source": [
    "# Defining function make_ing_form that takes an infinitive and returns the present participle form.\n",
    "def make_ing_form(string):\n",
    "    '''This function takes an infinitive and returns the present participle.'''\n",
    "    consonant = \"bcdfghjklmnpqrstvwxyz\" # Creating a variable with all consontants\n",
    "    vowel = \"aeiou\" # Creating a variable with all vowels\n",
    "    \n",
    "    if string.endswith(\"e\"):\n",
    "        if string.endswith(\"ie\"):\n",
    "            string = string[:-2]+ \"ying\" # If word ends in \"ie\", replace \"ie\" with \"y\" and add \"ing\".\n",
    "        elif not string == \"be\" and string[-2:] != \"ee\":\n",
    "            string = string[:-1]+\"ing\" # If word ends in \"e\" but not \"ee\" or \"ie\", replace \"e\" with \"ing\"\n",
    "    elif string[-3] in consonant and string[-2] in vowel and string[-1] in consonant:\n",
    "        # If last three letters are consonant-vowel-consonant, double last letter and add \"ing\"\n",
    "        string = string + string[-1] + \"ing\" \n",
    "    else:\n",
    "        # By default, add ing to end of word. \n",
    "        string += \"ing\"\n",
    "    return (string) # Return converted word. \n",
    "\n",
    "make_ing_form(\"add\")\n",
    "    "
   ]
  },
  {
   "cell_type": "code",
   "execution_count": null,
   "metadata": {
    "collapsed": true
   },
   "outputs": [],
   "source": []
  },
  {
   "cell_type": "code",
   "execution_count": null,
   "metadata": {
    "collapsed": true
   },
   "outputs": [],
   "source": []
  }
 ],
 "metadata": {
  "kernelspec": {
   "display_name": "Python 3",
   "language": "python",
   "name": "python3"
  },
  "language_info": {
   "codemirror_mode": {
    "name": "ipython",
    "version": 3
   },
   "file_extension": ".py",
   "mimetype": "text/x-python",
   "name": "python",
   "nbconvert_exporter": "python",
   "pygments_lexer": "ipython3",
   "version": "3.4.3"
  }
 },
 "nbformat": 4,
 "nbformat_minor": 0
}
